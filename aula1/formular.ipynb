{
 "cells": [
  {
   "cell_type": "code",
   "execution_count": 2,
   "id": "5ff37f51",
   "metadata": {},
   "outputs": [],
   "source": [
    "PI = 3.14159\n",
    "R = 5"
   ]
  },
  {
   "cell_type": "code",
   "execution_count": 3,
   "id": "4768f2de",
   "metadata": {},
   "outputs": [
    {
     "data": {
      "text/plain": [
       "78.53975"
      ]
     },
     "execution_count": 3,
     "metadata": {},
     "output_type": "execute_result"
    }
   ],
   "source": [
    "a = PI * R**2\n",
    "a"
   ]
  },
  {
   "cell_type": "code",
   "execution_count": 4,
   "id": "0473b804",
   "metadata": {},
   "outputs": [
    {
     "data": {
      "text/plain": [
       "37.77777777777778"
      ]
     },
     "execution_count": 4,
     "metadata": {},
     "output_type": "execute_result"
    }
   ],
   "source": [
    "user_put = int(input(\"digite um temperatura em F°: \"))\n",
    "celsius = (user_put -32) * 5/9\n",
    "celsius"
   ]
  },
  {
   "cell_type": "code",
   "execution_count": 6,
   "id": "4a9fc719",
   "metadata": {},
   "outputs": [
    {
     "name": "stdout",
     "output_type": "stream",
     "text": [
      "75 - 10\n"
     ]
    }
   ],
   "source": [
    "livro = 25\n",
    "caneta = 5\n",
    "print(livro * 3,'-' ,caneta * 2)"
   ]
  },
  {
   "cell_type": "code",
   "execution_count": null,
   "id": "a6f41713",
   "metadata": {},
   "outputs": [],
   "source": []
  }
 ],
 "metadata": {
  "kernelspec": {
   "display_name": "anaconda-toolbox",
   "language": "python",
   "name": "python3"
  },
  "language_info": {
   "codemirror_mode": {
    "name": "ipython",
    "version": 3
   },
   "file_extension": ".py",
   "mimetype": "text/x-python",
   "name": "python",
   "nbconvert_exporter": "python",
   "pygments_lexer": "ipython3",
   "version": "3.13.5"
  }
 },
 "nbformat": 4,
 "nbformat_minor": 5
}
